{
 "cells": [
  {
   "cell_type": "code",
   "execution_count": 17,
   "metadata": {},
   "outputs": [],
   "source": [
    "import numpy as np\n",
    "import ainsworth\n",
    "from tqdm import tqdm\n",
    "import matplotlib.pyplot as plt\n",
    "np.set_printoptions(linewidth=1000)"
   ]
  },
  {
   "cell_type": "code",
   "execution_count": null,
   "metadata": {},
   "outputs": [],
   "source": [
    "x,y = 96,96\n",
    "HH = np.load('HH.npy')[:x,:y]\n",
    "HV = np.load('HV.npy')[:x,:y]\n",
    "VH = np.load('VH.npy')[:x,:y]\n",
    "VV = np.load('VV.npy')[:x,:y] "
   ]
  },
  {
   "cell_type": "code",
   "execution_count": 10,
   "metadata": {},
   "outputs": [
    {
     "name": "stderr",
     "output_type": "stream",
     "text": [
      "Calculating Parameters: 100%|██████████| 1152/1152 [00:01<00:00, 674.81 windows/s]\n"
     ]
    }
   ],
   "source": [
    "window_size = 8\n",
    "HH_cal = []\n",
    "HV_cal = []\n",
    "VH_cal = []\n",
    "VV_cal = []\n",
    "\n",
    "M_list = []\n",
    "\n",
    "pbar = tqdm(total = int((HH.shape[0] * HH.shape[1])/ window_size), desc = 'Calculating Parameters', unit = ' windows')\n",
    "\n",
    "for a,b,c,d in ainsworth.sliding_window(HH, HV, VH, VV, window_size):\n",
    "    cov = ainsworth.get_covariance(a,b,c,d)\n",
    "    M = ainsworth.ainswoth_cal(cov, max_iter = 20, tolerance = 1e-10)\n",
    "    M_list.append(M)\n",
    "    pbar.update(1)\n",
    "pbar.close()"
   ]
  },
  {
   "cell_type": "code",
   "execution_count": null,
   "metadata": {},
   "outputs": [],
   "source": [
    "count = 0\n",
    "i = 0\n",
    "\n",
    "for a,b,c,d in ainsworth.sliding_window(HH, HV, VH, VV, window_size = 1):\n",
    "    observed = np.array([a,b,c,d]).reshape((4,1))\n",
    "    true = ainsworth.calibrate(observed,M_list[i])\n",
    "    HH_cal.append(true[0,0])\n",
    "    HV_cal.append(true[1,0])\n",
    "    VH_cal.append(true[2,0])\n",
    "    VV_cal.append(true[3,0])\n",
    "    count += 1\n",
    "    if count % 8 == 0:\n",
    "        i += 1\n",
    "    if i >= (x * x / window_size): break"
   ]
  },
  {
   "cell_type": "code",
   "execution_count": null,
   "metadata": {},
   "outputs": [],
   "source": [
    "HH_cal = np.array(HH_cal).reshape(HH.shape)\n",
    "HV_cal = np.array(HV_cal).reshape(HH.shape)\n",
    "VH_cal = np.array(VH_cal).reshape(HH.shape)\n",
    "VV_cal = np.array(VV_cal).reshape(HH.shape)"
   ]
  }
 ],
 "metadata": {
  "kernelspec": {
   "display_name": "Python 3",
   "language": "python",
   "name": "python3"
  },
  "language_info": {
   "codemirror_mode": {
    "name": "ipython",
    "version": 3
   },
   "file_extension": ".py",
   "mimetype": "text/x-python",
   "name": "python",
   "nbconvert_exporter": "python",
   "pygments_lexer": "ipython3",
   "version": "3.12.4"
  }
 },
 "nbformat": 4,
 "nbformat_minor": 2
}
