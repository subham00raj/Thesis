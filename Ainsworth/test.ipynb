{
 "cells": [
  {
   "cell_type": "code",
   "execution_count": 1,
   "metadata": {},
   "outputs": [],
   "source": [
    "import numpy as np\n",
    "from ainsworth_ieee import *\n",
    "from read_image import image_array"
   ]
  },
  {
   "cell_type": "code",
   "execution_count": 2,
   "metadata": {},
   "outputs": [],
   "source": [
    "import numpy as np\n",
    "from tqdm import tqdm\n",
    "from numpy.linalg import LinAlgError\n",
    "np.set_printoptions(linewidth=1000)\n",
    "\n",
    "def get_covariance(hh, hv, vh, vv):\n",
    "    C = np.zeros((4,4), dtype=np.complex64)\n",
    "    C[0,0] = np.mean(hh * np.conj(hh))\n",
    "    C[0,1] = np.mean(hh * np.conj(hv))\n",
    "    C[0,2] = np.mean(hh * np.conj(vh))\n",
    "    C[0,3] = np.mean(hh * np.conj(vv))\n",
    "\n",
    "    C[1,0] = np.mean(hv * np.conj(hh))\n",
    "    C[1,1] = np.mean(hv * np.conj(hv))\n",
    "    C[1,2] = np.mean(hv * np.conj(vh))\n",
    "    C[1,3] = np.mean(hv * np.conj(vv))\n",
    "\n",
    "    C[2,0] = np.mean(vh * np.conj(hh))\n",
    "    C[2,1] = np.mean(vh * np.conj(hv))\n",
    "    C[2,2] = np.mean(vh * np.conj(vh))\n",
    "    C[2,3] = np.mean(vh * np.conj(vv))\n",
    "\n",
    "    C[3,0] = np.mean(vv * np.conj(hh))\n",
    "    C[3,1] = np.mean(vv * np.conj(hv))\n",
    "    C[3,2] = np.mean(vv * np.conj(vh))\n",
    "    C[3,3] = np.mean(vv * np.conj(vv))\n",
    "\n",
    "    return C\n",
    "\n",
    "def compute_sigma_1_matrix(u, v, w, z, alpha):\n",
    "    sqrt_alpha = np.sqrt(alpha)\n",
    "    arr = np.array([[1, -w, -v, v*w],\n",
    "                    [-u / sqrt_alpha, 1 / sqrt_alpha, (u*v) / sqrt_alpha, -v / sqrt_alpha],\n",
    "                    [-z / sqrt_alpha, (w*z) / sqrt_alpha, sqrt_alpha, -w / sqrt_alpha],\n",
    "                    [(u*z), -z, -u, 1]])\n",
    "\n",
    "    multiplier = 1 / (((u*w) - 1) * ((v*z)-1))  \n",
    "    return arr * multiplier\n",
    "\n",
    "def compute_alpha(covariance):\n",
    "    x = covariance[1,2] / np.abs(covariance[1,2])\n",
    "    y = np.sqrt(np.abs(covariance[1,1] / covariance[2,2]))\n",
    "    return x*y\n",
    "\n",
    "def compute_A(covariance):\n",
    "     return (covariance[1,0] + covariance[2,0]) / 2\n",
    "\n",
    "def compute_B(covariance):\n",
    "     return (covariance[1,3] + covariance[2,3]) / 2\n",
    "\n",
    "def compute_X_matrix(covariance, A, B):\n",
    "    x_matrix = np.array([\n",
    "          [covariance[2,0] - A],\n",
    "          [covariance[1,0] - A],\n",
    "          [covariance[2,3] - B], \n",
    "          [covariance[1,3] - B]])\n",
    "    \n",
    "    return x_matrix\n",
    "\n",
    "def compute_zeta_matrix(covariance):\n",
    "    zeta_matrix = np.array([\n",
    "          [0, 0, covariance[3,0], covariance[0,0]],\n",
    "          [covariance[0,0], covariance[3,0], 0, 0],\n",
    "          [0, 0, covariance[3,3], covariance[0,3]],\n",
    "          [covariance[0,3], covariance[3,3], 0, 0]])\n",
    "    \n",
    "    return zeta_matrix\n",
    "\n",
    "def compute_tau_matrix(covariance):\n",
    "    tau_matrix = np.array([\n",
    "          [0, covariance[2,2], covariance[2,1], 0],\n",
    "          [0, covariance[1,2], covariance[1,1], 0],\n",
    "          [covariance[2,2], 0, 0, covariance[2,1]],\n",
    "          [covariance[1,2], 0, 0, covariance[1,1]]])\n",
    "    \n",
    "    return tau_matrix\n",
    "\n",
    "\n",
    "\n",
    "def parameter_updates(x, zeta, tau):\n",
    "    X_Matrix_Need = np.concatenate([np.real(x), np.imag(x)])\n",
    "\n",
    "    Zeta_Tau_Matrix_Need = np.concatenate([np.concatenate([np.real(zeta + tau), -1 * np.imag(zeta - tau)], axis=1),\n",
    "                                           np.concatenate([np.imag(zeta + tau), np.real(zeta - tau)], axis=1)])\n",
    "\n",
    "    delta_Solve = np.linalg.inv(Zeta_Tau_Matrix_Need) @ X_Matrix_Need\n",
    "\n",
    "    delta_u = delta_Solve[0] + 1j * delta_Solve[4]\n",
    "    delta_v = delta_Solve[1] + 1j * delta_Solve[5]\n",
    "    delta_w = delta_Solve[2] + 1j * delta_Solve[6]\n",
    "    delta_z = delta_Solve[3] + 1j * delta_Solve[7]\n",
    "\n",
    "    return delta_u, delta_v, delta_w, delta_z\n",
    "\n",
    "\n",
    "def ainswoth_cal(covar):\n",
    "    u = 0\n",
    "    v = 0\n",
    "    w = 0\n",
    "    z = 0\n",
    "    gamma = 100\n",
    "    tolerance = 1e-8\n",
    "    i_iter = 0\n",
    "    alpha = compute_alpha(covar)\n",
    "\n",
    "    while i_iter < 12:\n",
    "        sigma_1_matrix_i = compute_sigma_1_matrix(u, v, w, z, alpha)\n",
    "\n",
    "        covariance_i = sigma_1_matrix_i @ covar @ np.conj(sigma_1_matrix_i).T\n",
    "        A = compute_A(covariance_i)\n",
    "        B = compute_B(covariance_i)\n",
    "\n",
    "        X = compute_X_matrix(covariance_i, A, B)\n",
    "        zeta = compute_zeta_matrix(covariance_i)\n",
    "        tau = compute_tau_matrix(covariance_i)\n",
    "        delta_u, delta_v, delta_w, delta_z = parameter_updates(X, zeta, tau)\n",
    "        alpha_i = compute_alpha(covariance_i)\n",
    "\n",
    "        u = (u + delta_u / np.sqrt(alpha))[0]\n",
    "        v = (v + delta_v / np.sqrt(alpha))[0]\n",
    "        w = (w + delta_w * np.sqrt(alpha))[0]\n",
    "        z = (z + delta_z * np.sqrt(alpha))[0]\n",
    "        alpha = alpha * alpha_i\n",
    "\n",
    "        gamma = (max(abs(u), abs(v), abs(w), abs(z)))\n",
    "        i_iter = i_iter + 1\n",
    "    \n",
    "    return sigma_1_matrix_i"
   ]
  },
  {
   "cell_type": "code",
   "execution_count": null,
   "metadata": {},
   "outputs": [
    {
     "name": "stderr",
     "output_type": "stream",
     "text": [
      "Computing Parameters:  33%|███▎      | 1/3 [00:00<00:00, 104.98 windows/s]"
     ]
    },
    {
     "name": "stdout",
     "output_type": "stream",
     "text": [
      "[[-0.00690127-0.02906244j  0.04874293-0.01083722j  0.09196864-0.0122088j ]\n",
      " [-0.01627338-0.00610797j  0.01897904+0.04147513j  0.06223828+0.06260392j]\n",
      " [-0.05928316-0.01689963j -0.02648653+0.03150305j -0.00076173+0.05830637j]]\n"
     ]
    },
    {
     "name": "stderr",
     "output_type": "stream",
     "text": [
      "\n"
     ]
    }
   ],
   "source": [
    "window_size_x,window_size_y = 3,3\n",
    "x,y = 3,3\n",
    "HH = image_array(r'C:\\Users\\Vision IAS\\Desktop\\work\\SAR\\Output\\HH_uncalibrated.tiff')[:x,:y]\n",
    "HV = image_array(r'C:\\Users\\Vision IAS\\Desktop\\work\\SAR\\Output\\HV_uncalibrated.tiff')[:x,:y]\n",
    "VH = image_array(r'C:\\Users\\Vision IAS\\Desktop\\work\\SAR\\Output\\VH_uncalibrated.tiff')[:x,:y]\n",
    "VV = image_array(r'C:\\Users\\Vision IAS\\Desktop\\work\\SAR\\Output\\VV_uncalibrated.tiff')[:x,:y]\n",
    "\n",
    "def sliding_window(HH, HV, VH, VV, window_size_x, window_size_y):\n",
    "    rows, cols = HH.shape\n",
    "    for i in range(0, rows, window_size_y):\n",
    "        for j in range(0, cols, window_size_x):  \n",
    "            if i + window_size_y <= rows and j + window_size_x <= cols:\n",
    "                hh = HH[i:i+window_size_y, j:j+window_size_x]\n",
    "                hv = HV[i:i+window_size_y, j:j+window_size_x]\n",
    "                vh = VH[i:i+window_size_y, j:j+window_size_x]\n",
    "                vv = VV[i:i+window_size_y, j:j+window_size_x]\n",
    "                yield hh, hv, vh, vv\n",
    "\n",
    "pbar = tqdm(total = x * (x//window_size_x), desc = 'Computing Parameters', unit = ' windows')\n",
    "for a,b,c,d in sliding_window(HH, HV, VH, VV, window_size_x, window_size_y):\n",
    "    cov = get_covariance(a,b,c,d)\n",
    "    cal_mat = ainswoth_cal(cov)\n",
    "    true = cal_mat @ np.array([[a,b,c,d]]).T\n",
    "    pbar.update(1)\n",
    "pbar.close()"
   ]
  },
  {
   "cell_type": "code",
   "execution_count": 19,
   "metadata": {},
   "outputs": [
    {
     "data": {
      "text/plain": [
       "array([[-0.00660605-0.02864918j, -0.01587002-0.00535819j, -0.05842006-0.0175299j ],\n",
       "       [ 0.04842327-0.00992163j,  0.01842302+0.04170095j, -0.02646842+0.03083595j],\n",
       "       [ 0.09194526-0.01057932j,  0.06113858+0.06333135j, -0.00168575+0.05764587j]])"
      ]
     },
     "execution_count": 19,
     "metadata": {},
     "output_type": "execute_result"
    }
   ],
   "source": [
    "HH = true[:, :, 0, 0] \n",
    "HH"
   ]
  },
  {
   "cell_type": "code",
   "execution_count": 29,
   "metadata": {},
   "outputs": [
    {
     "data": {
      "text/plain": [
       "array([[-4.73362362e-04+1.16914239e-03j, -5.38015067e-03-8.68276963e-05j, -3.87790653e-03+4.21604213e-03j],\n",
       "       [-2.96562814e-03+1.31390551e-03j,  5.38722168e-05-1.03262548e-03j,  2.94886848e-04+4.44152500e-03j],\n",
       "       [-6.90224462e-03+3.08749398e-03j, -8.05982607e-04-4.20667699e-03j,  6.93425956e-03-1.36494133e-03j]])"
      ]
     },
     "execution_count": 29,
     "metadata": {},
     "output_type": "execute_result"
    }
   ],
   "source": [
    "HV = true[:, :, 1, 0] \n",
    "HV"
   ]
  },
  {
   "cell_type": "code",
   "execution_count": 28,
   "metadata": {},
   "outputs": [
    {
     "data": {
      "text/plain": [
       "array([[ 0.00163994+0.00279656j,  0.00284342+0.00145377j, -0.00312406+0.00270138j],\n",
       "       [-0.00435081+0.00541721j,  0.00030679-0.00184563j,  0.00041054+0.00257131j],\n",
       "       [-0.00617701+0.00507575j, -0.00194044-0.00439725j,  0.00453484-0.00246506j]])"
      ]
     },
     "execution_count": 28,
     "metadata": {},
     "output_type": "execute_result"
    }
   ],
   "source": [
    "VH = true[:, :, 2, 0]\n",
    "VH"
   ]
  },
  {
   "cell_type": "code",
   "execution_count": 23,
   "metadata": {},
   "outputs": [
    {
     "data": {
      "text/plain": [
       "array([[ 0.00304924-0.03568966j, -0.01101555+0.00239535j, -0.06017697-0.00595462j],\n",
       "       [ 0.06169926-0.03227201j,  0.03636025+0.03068926j, -0.01903784+0.03706011j],\n",
       "       [ 0.10715839-0.04298058j,  0.08077424+0.03993705j,  0.0055849 +0.05411345j]])"
      ]
     },
     "execution_count": 23,
     "metadata": {},
     "output_type": "execute_result"
    }
   ],
   "source": [
    "VV = true[:, :, 3, 0] \n",
    "VV"
   ]
  }
 ],
 "metadata": {
  "kernelspec": {
   "display_name": ".venv",
   "language": "python",
   "name": "python3"
  },
  "language_info": {
   "codemirror_mode": {
    "name": "ipython",
    "version": 3
   },
   "file_extension": ".py",
   "mimetype": "text/x-python",
   "name": "python",
   "nbconvert_exporter": "python",
   "pygments_lexer": "ipython3",
   "version": "3.12.4"
  }
 },
 "nbformat": 4,
 "nbformat_minor": 2
}
